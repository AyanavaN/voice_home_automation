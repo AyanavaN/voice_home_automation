{
 "cells": [
  {
   "cell_type": "code",
   "execution_count": 2,
   "id": "a3881d74",
   "metadata": {},
   "outputs": [
    {
     "ename": "SyntaxError",
     "evalue": "(unicode error) 'unicodeescape' codec can't decode bytes in position 2-3: truncated \\UXXXXXXXX escape (4283900462.py, line 12)",
     "output_type": "error",
     "traceback": [
      "\u001b[1;36m  Cell \u001b[1;32mIn[2], line 12\u001b[1;36m\u001b[0m\n\u001b[1;33m    model = Model(\"C:\\Users\\satya\\OneDrive\\Desktop\\voice\\Vosk\\vosk-model-en-in-0.5\")\u001b[0m\n\u001b[1;37m                                                                                   ^\u001b[0m\n\u001b[1;31mSyntaxError\u001b[0m\u001b[1;31m:\u001b[0m (unicode error) 'unicodeescape' codec can't decode bytes in position 2-3: truncated \\UXXXXXXXX escape\n"
     ]
    }
   ],
   "source": [
    "#!/usr/bin/env python3\n",
    "\n",
    "import subprocess\n",
    "import sys\n",
    "\n",
    "from vosk import Model, KaldiRecognizer, SetLogLevel\n",
    "\n",
    "SAMPLE_RATE = 44100\n",
    "\n",
    "SetLogLevel(0)\n",
    "\n",
    "model = Model(\"C:/Users/satya/OneDrive/Desktop/voice/Vosk/vosk-model-en-in-0.5\")\n",
    "rec = KaldiRecognizer(model, SAMPLE_RATE)\n",
    "\n",
    "\n",
    "while True:\n",
    "    with open(\"test.wav\", \"rb\") as f:\n",
    "        data = f.read()\n",
    "\n",
    "    if len(data) == 0:\n",
    "        break\n",
    "    if rec.AcceptWaveform(data):\n",
    "        \n",
    "        print(rec.Result())\n",
    "        break\n",
    "    else:\n",
    "        res2 = rec.PartialResult()\n",
    "        print(rec.PartialResult())\n",
    "        break\n",
    "res1 = rec.Result()\n",
    "res2 = rec.PartialResult()\n",
    "if res1 == '{\\n  \"text\" : \"kitchen lights on\"\\n}' or res2 == '{\\n  \"partial\" : \"kitchen lights on\"\\n}':\n",
    "    print(\"Turning lights on!\")\n",
    "#         led.on()\n",
    "\n",
    "# print(rec.FinalResult())"
   ]
  },
  {
   "cell_type": "code",
   "execution_count": 26,
   "id": "9b5840c6",
   "metadata": {},
   "outputs": [],
   "source": [
    "res=rec.PartialResult()"
   ]
  },
  {
   "cell_type": "code",
   "execution_count": 27,
   "id": "cb6f1375",
   "metadata": {},
   "outputs": [
    {
     "data": {
      "text/plain": [
       "'{\\n  \"partial\" : \"kitchen lights on\"\\n}'"
      ]
     },
     "execution_count": 27,
     "metadata": {},
     "output_type": "execute_result"
    }
   ],
   "source": [
    "res"
   ]
  },
  {
   "cell_type": "code",
   "execution_count": 28,
   "id": "3e756bfc",
   "metadata": {},
   "outputs": [
    {
     "data": {
      "text/plain": [
       "str"
      ]
     },
     "execution_count": 28,
     "metadata": {},
     "output_type": "execute_result"
    }
   ],
   "source": [
    "type(res)"
   ]
  },
  {
   "cell_type": "code",
   "execution_count": null,
   "id": "d888947d",
   "metadata": {},
   "outputs": [],
   "source": []
  }
 ],
 "metadata": {
  "kernelspec": {
   "display_name": "Python 3 (ipykernel)",
   "language": "python",
   "name": "python3"
  },
  "language_info": {
   "codemirror_mode": {
    "name": "ipython",
    "version": 3
   },
   "file_extension": ".py",
   "mimetype": "text/x-python",
   "name": "python",
   "nbconvert_exporter": "python",
   "pygments_lexer": "ipython3",
   "version": "3.11.4"
  }
 },
 "nbformat": 4,
 "nbformat_minor": 5
}
